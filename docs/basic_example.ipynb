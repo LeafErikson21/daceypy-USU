{
 "cells": [
  {
   "cell_type": "markdown",
   "metadata": {},
   "source": [
    "# Basic example\n",
    "In the following example, some DA scalars and arrays are created\n",
    "in different ways and compared."
   ]
  },
  {
   "cell_type": "markdown",
   "metadata": {},
   "source": [
    "## 1. Import daceypy"
   ]
  },
  {
   "cell_type": "code",
   "execution_count": 1,
   "metadata": {},
   "outputs": [],
   "source": [
    "from daceypy import DA, array\n",
    "from daceypy.op import sin"
   ]
  },
  {
   "cell_type": "markdown",
   "metadata": {},
   "source": [
    "## 2. Initialize DACE"
   ]
  },
  {
   "cell_type": "code",
   "execution_count": 2,
   "metadata": {},
   "outputs": [],
   "source": [
    "DA.init(3, 6)  # order = 3, num. of vars. = 6"
   ]
  },
  {
   "cell_type": "markdown",
   "metadata": {},
   "source": [
    "## 3. Scalar example"
   ]
  },
  {
   "cell_type": "code",
   "execution_count": 3,
   "metadata": {},
   "outputs": [
    {
     "name": "stdout",
     "output_type": "stream",
     "text": [
      "     I  COEFFICIENT              ORDER EXPONENTS\n",
      "     1    1.0000000000000000e+00   1   1  0  0  0  0  0\n",
      "     2   -1.6666666666666666e-01   3   3  0  0  0  0  0\n",
      "------------------------------------------------\n"
     ]
    }
   ],
   "source": [
    "# Create a simple DA variable\n",
    "# (when the arg. is int, it is interpreted as the n-th DA variable:\n",
    "# to have a constant DA object of value one, use DA(1.0))\n",
    "x = DA(1)\n",
    "\n",
    "# Compute and print sin(x)\n",
    "sin_x = sin(x)  # alternative: x.sin()\n",
    "print(sin_x)"
   ]
  },
  {
   "cell_type": "markdown",
   "metadata": {},
   "source": [
    "## 4. Array example"
   ]
  },
  {
   "cell_type": "code",
   "execution_count": 4,
   "metadata": {},
   "outputs": [
    {
     "name": "stdout",
     "output_type": "stream",
     "text": [
      "[[[ 6 vector:\n",
      "     I  COEFFICIENT              ORDER EXPONENTS\n",
      "     1    1.0000000000000000e+00   1   1  0  0  0  0  0\n",
      "     2   -1.6666666666666666e-01   3   3  0  0  0  0  0\n",
      "------------------------------------------------\n",
      "\n",
      "     I  COEFFICIENT              ORDER EXPONENTS\n",
      "     1    8.4147098480789650e-01   0   0  0  0  0  0  0\n",
      "     2    5.4030230586813977e-01   1   0  1  0  0  0  0\n",
      "     3   -4.2073549240394825e-01   2   0  2  0  0  0  0\n",
      "     4   -9.0050384311356632e-02   3   0  3  0  0  0  0\n",
      "------------------------------------------------\n",
      "\n",
      "     I  COEFFICIENT              ORDER EXPONENTS\n",
      "     1    9.0929742682568171e-01   0   0  0  0  0  0  0\n",
      "     2   -4.1614683654714241e-01   1   0  0  1  0  0  0\n",
      "     3   -4.5464871341284085e-01   2   0  0  2  0  0  0\n",
      "     4    6.9357806091190397e-02   3   0  0  3  0  0  0\n",
      "------------------------------------------------\n",
      "\n",
      "     I  COEFFICIENT              ORDER EXPONENTS\n",
      "     1    1.4112000805986721e-01   0   0  0  0  0  0  0\n",
      "     2   -9.8999249660044542e-01   1   0  0  0  1  0  0\n",
      "     3   -7.0560004029933607e-02   2   0  0  0  2  0  0\n",
      "     4    1.6499874943340756e-01   3   0  0  0  3  0  0\n",
      "------------------------------------------------\n",
      "\n",
      "     I  COEFFICIENT              ORDER EXPONENTS\n",
      "     1   -7.5680249530792820e-01   0   0  0  0  0  0  0\n",
      "     2   -6.5364362086361194e-01   1   0  0  0  0  1  0\n",
      "     3    3.7840124765396410e-01   2   0  0  0  0  2  0\n",
      "     4    1.0894060347726865e-01   3   0  0  0  0  3  0\n",
      "------------------------------------------------\n",
      "\n",
      "     I  COEFFICIENT              ORDER EXPONENTS\n",
      "     1   -9.5892427466313845e-01   0   0  0  0  0  0  0\n",
      "     2    2.8366218546322625e-01   1   0  0  0  0  0  1\n",
      "     3    4.7946213733156923e-01   2   0  0  0  0  0  2\n",
      "     4   -4.7277030910537705e-02   3   0  0  0  0  0  3\n",
      "------------------------------------------------\n",
      "\n",
      "]]]\n"
     ]
    }
   ],
   "source": [
    "# Create a vector with DA variables from 1 to 6\n",
    "arr = array.identity(6)\n",
    "\n",
    "# Add constant parts\n",
    "arr += [0.0, 1.0, 2.0, 3.0, 4.0, 5.0]\n",
    "\n",
    "# Compute and print sin(arr)\n",
    "sin_arr = sin(arr)  # alternative: arr.sin()\n",
    "print(sin_arr)"
   ]
  },
  {
   "cell_type": "markdown",
   "metadata": {},
   "source": [
    "## 5. Text parser example"
   ]
  },
  {
   "cell_type": "code",
   "execution_count": 5,
   "metadata": {},
   "outputs": [
    {
     "name": "stdout",
     "output_type": "stream",
     "text": [
      "        ALL COEFFICIENTS ZERO\n",
      "------------------------------------------------\n",
      "[[[ 6 vector:\n",
      "        ALL COEFFICIENTS ZERO\n",
      "------------------------------------------------\n",
      "\n",
      "        ALL COEFFICIENTS ZERO\n",
      "------------------------------------------------\n",
      "\n",
      "        ALL COEFFICIENTS ZERO\n",
      "------------------------------------------------\n",
      "\n",
      "        ALL COEFFICIENTS ZERO\n",
      "------------------------------------------------\n",
      "\n",
      "        ALL COEFFICIENTS ZERO\n",
      "------------------------------------------------\n",
      "\n",
      "        ALL COEFFICIENTS ZERO\n",
      "------------------------------------------------\n",
      "\n",
      "]]]\n"
     ]
    }
   ],
   "source": [
    "# Parse text (by default, the vars are called x, y, z, xx, yy, zz)\n",
    "# but a different alphabet can be passed as second argument,\n",
    "# either as a list of strings (converted to DA vars following their order)\n",
    "# or as a dict str->DAobj (every str will be converted to the obj.)\n",
    "sin_x_2 = DA.fromText(\"sin(x)\")\n",
    "\n",
    "# Compute the difference with respect to the variable created before\n",
    "# (should be zero, i.e. `ALL COEFFICIENTS ZERO`)\n",
    "print(sin_x_2 - sin_x)\n",
    "\n",
    "# Parse text (by default, the vars are called x, y, z, xx, yy, zz)\n",
    "# but a different alphabet can be passed as second argument\n",
    "sin_arr_2 = array.fromText(\"sin([x, y+1, z+2, xx+3, yy+4, zz+5])\")\n",
    "\n",
    "# Compute the difference with respect to the variable created before\n",
    "# (should be all zeros, i.e. `ALL COEFFICIENTS ZERO`)\n",
    "print(sin_arr_2 - sin_arr)"
   ]
  }
 ],
 "metadata": {
  "interpreter": {
   "hash": "d384d1642b0f5f45a69080b79971b2232e37b80b0310be7a84409fa7df96a657"
  },
  "kernelspec": {
   "display_name": "Python 3.10.2 64-bit",
   "language": "python",
   "name": "python3"
  },
  "language_info": {
   "codemirror_mode": {
    "name": "ipython",
    "version": 3
   },
   "file_extension": ".py",
   "mimetype": "text/x-python",
   "name": "python",
   "nbconvert_exporter": "python",
   "pygments_lexer": "ipython3",
   "version": "3.10.2"
  },
  "orig_nbformat": 4
 },
 "nbformat": 4,
 "nbformat_minor": 2
}
